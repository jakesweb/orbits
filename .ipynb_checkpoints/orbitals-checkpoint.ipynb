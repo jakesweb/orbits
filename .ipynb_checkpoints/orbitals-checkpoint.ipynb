{
 "cells": [
  {
   "cell_type": "markdown",
   "metadata": {},
   "source": [
    "# Earth and Moon Orbit with Solar Center\n",
    "\n",
    "This module creates a chart which provides the orbit of the Earth and Moon relative to the Sun for a number of years. "
   ]
  },
  {
   "cell_type": "code",
   "execution_count": 6,
   "metadata": {},
   "outputs": [
    {
     "name": "stdout",
     "output_type": "stream",
     "text": [
      "[0.9978977  0.99742769 0.99691589 ... 0.98527698 0.98416037 0.98300701]\n"
     ]
    },
    {
     "data": {
      "image/png": "[encoded data removed]",
      "text/plain": [
       "<Figure size 432x288 with 2 Axes>"
      ]
     },
     "metadata": {
      "needs_background": "light"
     },
     "output_type": "display_data"
    }
   ],
   "source": [
    "# add necessary imports\n",
    "import numpy as np\n",
    "import matplotlib.pyplot as plt\n",
    "\n",
    "# constants\n",
    "\n",
    "G = 4*np.pi**2\n",
    "\n",
    "mass = {\n",
    "    'sun': 1.0,\n",
    "    'earth': 3.0034e-6,\n",
    "    'moon': 3.6923e-7}\n",
    "\n",
    "r0 = {\n",
    "    'sun': np.array([0,0,0]),\n",
    "    'earth': np.array([9.978977040419635E-01, 6.586825681892025E-02, -6.320430920521123E-06]),\n",
    "    'moon': np.array([9.956768547953816E-01, 6.676030485840675E-02, 1.641093070596718E-04])\n",
    "     }\n",
    "v0 = {\n",
    "    'sun': np.array([0,0,0]),\n",
    "    'earth': np.array([-4.70015711e-01, 6.25165839e+00, -3.40817831e-04]),\n",
    "    'moon': np.array([-0.55065949, 6.03534661, 0.01111456])\n",
    "}\n",
    "\n",
    "# functions\n",
    "def F_gravity(ri, rj, mi, mj):\n",
    "    # calculate the needed vector math\n",
    "    # difference vector\n",
    "    rij_vector = np.array([ri[0] - rj[0], ri[1] - rj[1], ri[2] - rj[2]])\n",
    "    # scalar - length of difference vector\n",
    "    rij = np.sqrt(rij_vector[0] ** 2 + rij_vector[1] ** 2 + rij_vector[2] ** 2)\n",
    "    # unit vector from body j toward body i\n",
    "    rij_hat = rij_vector / rij\n",
    "    \n",
    "    # calculate using Newton's law of universal gravitation \n",
    "    return -((G * mi * mj) / rij ** 2) * rij_hat\n",
    "    \n",
    "def F_ES(rE):\n",
    "    return F_gravity(rE, r0['sun'], mass['earth'], mass['sun'])\n",
    "\n",
    "def F_EM(rE, rM):\n",
    "    return F_gravity(rE, rM, mass['earth'], mass['moon'])\n",
    "\n",
    "def F_ME(rE, rM):\n",
    "    return F_gravity(rM, rE, mass['moon'], mass['earth'])\n",
    "\n",
    "def F_MS(rM):\n",
    "    return F_gravity(rM, r0['sun'], mass['moon'], mass['sun'])\n",
    "\n",
    "def F_E(rE, rM):\n",
    "    return F_ES(rE) + F_EM(rE, rM)\n",
    "\n",
    "def F_M(rE, rM):\n",
    "    return F_MS(rM) + F_ME(rE, rM)\n",
    "\n",
    "def integrate_EM(tmax, dt = 1e-3):\n",
    "    # intialize interators\n",
    "    time = 0\n",
    "    count = 0\n",
    "    \n",
    "    # initial vector and velocity values\n",
    "    r_earth = np.array([r0['earth']])\n",
    "    v_earth = np.array([v0['earth']])\n",
    "    r_moon = np.array([r0['moon']])\n",
    "    v_moon = np.array([v0['moon']])\n",
    "    \n",
    "    while tmax >= time:\n",
    "        # calculate new position vector (t + 1)\n",
    "        r_earth = np.row_stack((r_earth, r_earth[count] + v_earth[count] * dt))\n",
    "        r_moon = np.row_stack((r_moon, r_moon[count] + v_moon[count] * dt))\n",
    "        \n",
    "        # calculate new velocity vector (t + 1)       \n",
    "        v_earth = np.row_stack((v_earth, \n",
    "                        (v_earth[count]) + ((1 / mass['earth']) * F_E(r_earth[count + 1], r_moon[count + 1]) * dt)))\n",
    "        v_moon = np.row_stack((v_moon, \n",
    "                        (v_moon[count]) + ((1 / mass['moon']) * F_M(r_earth[count + 1], r_moon[count + 1]) * dt)))\n",
    "        \n",
    "        # iterate\n",
    "        count += 1\n",
    "        time += dt\n",
    "    \n",
    "    return r_earth, r_moon\n",
    "\n",
    "\n",
    "if __name__ == \"__main__\":\n",
    "    # create Earth and Moon trajectories\n",
    "    earth_coords, moon_coords = integrate_EM(1)\n",
    "    \n",
    "    print(earth_coords[:,0])\n",
    "    \n",
    "    # plot\n",
    "    plt.plot(earth_coords[:,0], earth_coords[:,1], 'r', label = 'Earth')\n",
    "    #plt.plot(moon_coords[:,0], moon_coords[:,1], 'b--', label = 'Moon')\n",
    "    plt.legend()\n",
    "    # label\n",
    "    plt.xlabel('x (AU)')\n",
    "    plt.ylabel('y (AU)')\n",
    "    # improve aspect\n",
    "    plt.gca().set_aspect('equal')\n",
    "    # set background and grid\n",
    "    plt.axes().set_facecolor('#D9D9D6')\n",
    "    plt.grid(True)\n",
    "    # add starting point\n",
    "    #plt.plot(r0['earth'][0], r0['earth'][1], \"r^\")\n"
   ]
  },
  {
   "cell_type": "code",
   "execution_count": null,
   "metadata": {},
   "outputs": [],
   "source": []
  }
 ],
 "metadata": {
  "kernelspec": {
   "display_name": "Python 3 (ipykernel)",
   "language": "python",
   "name": "python3"
  },
  "language_info": {
   "codemirror_mode": {
    "name": "ipython",
    "version": 3
   },
   "file_extension": ".py",
   "mimetype": "text/x-python",
   "name": "python",
   "nbconvert_exporter": "python",
   "pygments_lexer": "ipython3",
   "version": "3.9.12"
  }
 },
 "nbformat": 4,
 "nbformat_minor": 2
}
